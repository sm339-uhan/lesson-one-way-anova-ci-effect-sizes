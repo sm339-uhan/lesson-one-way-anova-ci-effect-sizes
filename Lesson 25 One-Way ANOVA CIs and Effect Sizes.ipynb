{
 "cells": [
  {
   "cell_type": "markdown",
   "id": "893d8a6c-655c-46dc-8bdf-a90a2fa3fcfe",
   "metadata": {},
   "source": [
    "**SM339 &#x25aa; Applied Statistics &#x25aa; Spring 2023 &#x25aa; Uhan**"
   ]
  },
  {
   "cell_type": "markdown",
   "id": "29f5cd15-a876-46e0-86dc-84843ecbcf0e",
   "metadata": {},
   "source": [
    "# Lesson 25. One-Way ANOVA &ndash; Confidence Intervals and Effect Sizes &ndash; Part 2 "
   ]
  },
  {
   "cell_type": "markdown",
   "id": "80f4a6da-68d1-4fcb-a2aa-7f202b744e92",
   "metadata": {},
   "source": [
    "## Example\n",
    "\n",
    "Continuing with the FatRats example from Lessons 23 and 24...\n",
    "\n",
    "Recall the setting: Thirty baby rats were fed high-protein diets with different sources of protein: beef, cereal, or pork. The rats were randomly assigned to one of these three diets; 10 rats got their protein from beef, 10 from cereal, and 10 from pork. Their weight gains were recorded.\n",
    "The response variable is the weight gain in grams ($\\mathit{Gain}$), and the explanatory variable is the type of protein ($\\mathit{Source}$)."
   ]
  },
  {
   "cell_type": "markdown",
   "id": "b5f1bcbf-0d21-498b-8385-84d25f022561",
   "metadata": {},
   "source": [
    "### Setup\n",
    "\n",
    "First, we load the data and create a new dataframe containing only the rows corresponding to the rats fed the high-protein diets."
   ]
  },
  {
   "cell_type": "code",
   "execution_count": 1,
   "id": "37ac5504-c959-468b-8788-714bba070186",
   "metadata": {},
   "outputs": [
    {
     "data": {
      "text/html": [
       "<table class=\"dataframe\">\n",
       "<caption>A data.frame: 6 × 3</caption>\n",
       "<thead>\n",
       "\t<tr><th></th><th scope=col>Gain</th><th scope=col>Protein</th><th scope=col>Source</th></tr>\n",
       "\t<tr><th></th><th scope=col>&lt;int&gt;</th><th scope=col>&lt;fct&gt;</th><th scope=col>&lt;fct&gt;</th></tr>\n",
       "</thead>\n",
       "<tbody>\n",
       "\t<tr><th scope=row>1</th><td> 73</td><td>Hi</td><td>Beef</td></tr>\n",
       "\t<tr><th scope=row>2</th><td>102</td><td>Hi</td><td>Beef</td></tr>\n",
       "\t<tr><th scope=row>3</th><td>118</td><td>Hi</td><td>Beef</td></tr>\n",
       "\t<tr><th scope=row>4</th><td>104</td><td>Hi</td><td>Beef</td></tr>\n",
       "\t<tr><th scope=row>5</th><td> 81</td><td>Hi</td><td>Beef</td></tr>\n",
       "\t<tr><th scope=row>6</th><td>107</td><td>Hi</td><td>Beef</td></tr>\n",
       "</tbody>\n",
       "</table>\n"
      ],
      "text/latex": [
       "A data.frame: 6 × 3\n",
       "\\begin{tabular}{r|lll}\n",
       "  & Gain & Protein & Source\\\\\n",
       "  & <int> & <fct> & <fct>\\\\\n",
       "\\hline\n",
       "\t1 &  73 & Hi & Beef\\\\\n",
       "\t2 & 102 & Hi & Beef\\\\\n",
       "\t3 & 118 & Hi & Beef\\\\\n",
       "\t4 & 104 & Hi & Beef\\\\\n",
       "\t5 &  81 & Hi & Beef\\\\\n",
       "\t6 & 107 & Hi & Beef\\\\\n",
       "\\end{tabular}\n"
      ],
      "text/markdown": [
       "\n",
       "A data.frame: 6 × 3\n",
       "\n",
       "| <!--/--> | Gain &lt;int&gt; | Protein &lt;fct&gt; | Source &lt;fct&gt; |\n",
       "|---|---|---|---|\n",
       "| 1 |  73 | Hi | Beef |\n",
       "| 2 | 102 | Hi | Beef |\n",
       "| 3 | 118 | Hi | Beef |\n",
       "| 4 | 104 | Hi | Beef |\n",
       "| 5 |  81 | Hi | Beef |\n",
       "| 6 | 107 | Hi | Beef |\n",
       "\n"
      ],
      "text/plain": [
       "  Gain Protein Source\n",
       "1  73  Hi      Beef  \n",
       "2 102  Hi      Beef  \n",
       "3 118  Hi      Beef  \n",
       "4 104  Hi      Beef  \n",
       "5  81  Hi      Beef  \n",
       "6 107  Hi      Beef  "
      ]
     },
     "metadata": {},
     "output_type": "display_data"
    }
   ],
   "source": [
    "library(Stat2Data)\n",
    "data(FatRats)\n",
    "head(FatRats)"
   ]
  },
  {
   "cell_type": "code",
   "execution_count": 2,
   "id": "fdb7367f-8d4d-4895-b629-43a4e5bbe2a0",
   "metadata": {},
   "outputs": [],
   "source": [
    "FatRats.HighProtein <- FatRats[FatRats$Protein == 'Hi', ]"
   ]
  },
  {
   "cell_type": "markdown",
   "id": "8bfee334-4730-4657-ba8e-c2dc4bbdacff",
   "metadata": {},
   "source": [
    "### Parameter estimates\n",
    "\n",
    "$$ \\hat{\\mu} = \\bar{y} \\qquad \\hat{\\alpha}_k = \\bar{y}_k - \\bar{y} $$\n",
    "\n",
    "First, $\\bar{y}_k$, the mean weight gain for each group."
   ]
  },
  {
   "cell_type": "code",
   "execution_count": 3,
   "id": "6b57a288-9ebf-4d24-b0ea-f6df5aef586e",
   "metadata": {},
   "outputs": [
    {
     "data": {
      "text/html": [
       "<style>\n",
       ".dl-inline {width: auto; margin:0; padding: 0}\n",
       ".dl-inline>dt, .dl-inline>dd {float: none; width: auto; display: inline-block}\n",
       ".dl-inline>dt::after {content: \":\\0020\"; padding-right: .5ex}\n",
       ".dl-inline>dt:not(:first-of-type) {padding-left: .5ex}\n",
       "</style><dl class=dl-inline><dt>Beef</dt><dd>100</dd><dt>Cereal</dt><dd>85.9</dd><dt>Pork</dt><dd>99.5</dd></dl>\n"
      ],
      "text/latex": [
       "\\begin{description*}\n",
       "\\item[Beef] 100\n",
       "\\item[Cereal] 85.9\n",
       "\\item[Pork] 99.5\n",
       "\\end{description*}\n"
      ],
      "text/markdown": [
       "Beef\n",
       ":   100Cereal\n",
       ":   85.9Pork\n",
       ":   99.5\n",
       "\n"
      ],
      "text/plain": [
       "  Beef Cereal   Pork \n",
       " 100.0   85.9   99.5 "
      ]
     },
     "metadata": {},
     "output_type": "display_data"
    }
   ],
   "source": [
    "ybar.k <- tapply(FatRats.HighProtein$Gain, FatRats.HighProtein$Source, mean)\n",
    "ybar.k"
   ]
  },
  {
   "cell_type": "markdown",
   "id": "0f9b295e-89ae-4b46-878d-819c2101e5cb",
   "metadata": {},
   "source": [
    "Second, $\\bar{y}$, the mean weight gain for all rats. This also gives us an estimate of the grand mean $\\hat{\\mu}$."
   ]
  },
  {
   "cell_type": "code",
   "execution_count": 4,
   "id": "75bccc6e-028b-4179-a5e3-14e8d9972672",
   "metadata": {},
   "outputs": [
    {
     "data": {
      "text/html": [
       "95.1333333333333"
      ],
      "text/latex": [
       "95.1333333333333"
      ],
      "text/markdown": [
       "95.1333333333333"
      ],
      "text/plain": [
       "[1] 95.13333"
      ]
     },
     "metadata": {},
     "output_type": "display_data"
    }
   ],
   "source": [
    "ybar <- mean(FatRats.HighProtein$Gain)\n",
    "ybar"
   ]
  },
  {
   "cell_type": "markdown",
   "id": "187d6488-c69a-478b-be01-0812d8c0c564",
   "metadata": {},
   "source": [
    "Now, we can get the estimated group effects $\\hat{\\alpha}_k$."
   ]
  },
  {
   "cell_type": "code",
   "execution_count": 5,
   "id": "2348bd35-8336-4589-84ef-c217878a32be",
   "metadata": {},
   "outputs": [
    {
     "data": {
      "text/html": [
       "<style>\n",
       ".dl-inline {width: auto; margin:0; padding: 0}\n",
       ".dl-inline>dt, .dl-inline>dd {float: none; width: auto; display: inline-block}\n",
       ".dl-inline>dt::after {content: \":\\0020\"; padding-right: .5ex}\n",
       ".dl-inline>dt:not(:first-of-type) {padding-left: .5ex}\n",
       "</style><dl class=dl-inline><dt>Beef</dt><dd>4.86666666666666</dd><dt>Cereal</dt><dd>-9.23333333333333</dd><dt>Pork</dt><dd>4.36666666666666</dd></dl>\n"
      ],
      "text/latex": [
       "\\begin{description*}\n",
       "\\item[Beef] 4.86666666666666\n",
       "\\item[Cereal] -9.23333333333333\n",
       "\\item[Pork] 4.36666666666666\n",
       "\\end{description*}\n"
      ],
      "text/markdown": [
       "Beef\n",
       ":   4.86666666666666Cereal\n",
       ":   -9.23333333333333Pork\n",
       ":   4.36666666666666\n",
       "\n"
      ],
      "text/plain": [
       "     Beef    Cereal      Pork \n",
       " 4.866667 -9.233333  4.366667 "
      ]
     },
     "metadata": {},
     "output_type": "display_data"
    }
   ],
   "source": [
    "alpha.k <- ybar.k - ybar\n",
    "alpha.k"
   ]
  },
  {
   "cell_type": "markdown",
   "id": "f899c48f-780b-44c1-a511-4351ab646a0a",
   "metadata": {},
   "source": [
    "### ANOVA table"
   ]
  },
  {
   "cell_type": "code",
   "execution_count": 6,
   "id": "00ee7430-b55c-49e0-b8e1-97943a40a8c0",
   "metadata": {},
   "outputs": [
    {
     "data": {
      "text/plain": [
       "                  Df Sum Sq Mean Sq F value Pr(>F)  \n",
       "as.factor(Source)  2   1280   640.0   3.346 0.0503 .\n",
       "Residuals         27   5165   191.3                 \n",
       "---\n",
       "Signif. codes:  0 ‘***’ 0.001 ‘**’ 0.01 ‘*’ 0.05 ‘.’ 0.1 ‘ ’ 1"
      ]
     },
     "metadata": {},
     "output_type": "display_data"
    }
   ],
   "source": [
    "test <- aov(Gain ~ as.factor(Source), data = FatRats.HighProtein)\n",
    "summary(test)"
   ]
  },
  {
   "cell_type": "markdown",
   "id": "885e8328-817e-4415-9377-8b62870775a6",
   "metadata": {},
   "source": [
    "### Useful quantities for computing CIs\n",
    "\n",
    "To compute the confidence intervals, we will need the number of observations in each group."
   ]
  },
  {
   "cell_type": "code",
   "execution_count": 7,
   "id": "c5fda28a-8349-4ba5-bd87-e9283ff1f0c1",
   "metadata": {},
   "outputs": [
    {
     "data": {
      "text/html": [
       "<style>\n",
       ".dl-inline {width: auto; margin:0; padding: 0}\n",
       ".dl-inline>dt, .dl-inline>dd {float: none; width: auto; display: inline-block}\n",
       ".dl-inline>dt::after {content: \":\\0020\"; padding-right: .5ex}\n",
       ".dl-inline>dt:not(:first-of-type) {padding-left: .5ex}\n",
       "</style><dl class=dl-inline><dt>Beef</dt><dd>10</dd><dt>Cereal</dt><dd>10</dd><dt>Pork</dt><dd>10</dd></dl>\n"
      ],
      "text/latex": [
       "\\begin{description*}\n",
       "\\item[Beef] 10\n",
       "\\item[Cereal] 10\n",
       "\\item[Pork] 10\n",
       "\\end{description*}\n"
      ],
      "text/markdown": [
       "Beef\n",
       ":   10Cereal\n",
       ":   10Pork\n",
       ":   10\n",
       "\n"
      ],
      "text/plain": [
       "  Beef Cereal   Pork \n",
       "    10     10     10 "
      ]
     },
     "metadata": {},
     "output_type": "display_data"
    }
   ],
   "source": [
    "n.k <- tapply(FatRats.HighProtein$Gain, FatRats.HighProtein$Source, length)\n",
    "n.k"
   ]
  },
  {
   "cell_type": "markdown",
   "id": "1eed1d57-d9ab-4fb4-99ae-f15ef1aa7d6c",
   "metadata": {},
   "source": [
    "We will also need $\\mathit{SD} = \\sqrt{\\mathit{MSE}}$. We can find $\\mathit{MSE}$ in the ANOVA table."
   ]
  },
  {
   "cell_type": "code",
   "execution_count": 8,
   "id": "13b296b0-3834-4314-a2da-b92e0c40877c",
   "metadata": {},
   "outputs": [
    {
     "data": {
      "text/html": [
       "13.8311243216161"
      ],
      "text/latex": [
       "13.8311243216161"
      ],
      "text/markdown": [
       "13.8311243216161"
      ],
      "text/plain": [
       "[1] 13.83112"
      ]
     },
     "metadata": {},
     "output_type": "display_data"
    }
   ],
   "source": [
    "SD <- sqrt(191.3)\n",
    "SD"
   ]
  },
  {
   "cell_type": "markdown",
   "id": "e22273e9-a66f-4df3-bb6b-6c83735690fc",
   "metadata": {},
   "source": [
    "In addition, we will need the critical value $t_{\\alpha/2, n - K}$."
   ]
  },
  {
   "cell_type": "code",
   "execution_count": 9,
   "id": "3474f0b3-6bea-44d9-8e70-6ef5f43db3e8",
   "metadata": {},
   "outputs": [
    {
     "data": {
      "text/html": [
       "2.05183051648029"
      ],
      "text/latex": [
       "2.05183051648029"
      ],
      "text/markdown": [
       "2.05183051648029"
      ],
      "text/plain": [
       "[1] 2.051831"
      ]
     },
     "metadata": {},
     "output_type": "display_data"
    }
   ],
   "source": [
    "t <- qt(1 - 0.05/2, 30 - 3)\n",
    "t"
   ]
  },
  {
   "cell_type": "markdown",
   "id": "b65e7f8f-488e-4c58-849c-3c4683612629",
   "metadata": {},
   "source": [
    "### CI for group means\n",
    "\n",
    "$$ \\bar{y}_k \\pm t_{\\alpha/2, n - K} \\cdot \\mathit{SD} \\sqrt{\\frac{1}{n_k}} $$"
   ]
  },
  {
   "cell_type": "code",
   "execution_count": 10,
   "id": "fcf377e2-efb1-45b2-8854-6492de24e85e",
   "metadata": {},
   "outputs": [
    {
     "data": {
      "text/html": [
       "<style>\n",
       ".dl-inline {width: auto; margin:0; padding: 0}\n",
       ".dl-inline>dt, .dl-inline>dd {float: none; width: auto; display: inline-block}\n",
       ".dl-inline>dt::after {content: \":\\0020\"; padding-right: .5ex}\n",
       ".dl-inline>dt:not(:first-of-type) {padding-left: .5ex}\n",
       "</style><dl class=dl-inline><dt>Beef</dt><dd>91.0257333447394</dd><dt>Cereal</dt><dd>76.9257333447394</dd><dt>Pork</dt><dd>90.5257333447394</dd></dl>\n"
      ],
      "text/latex": [
       "\\begin{description*}\n",
       "\\item[Beef] 91.0257333447394\n",
       "\\item[Cereal] 76.9257333447394\n",
       "\\item[Pork] 90.5257333447394\n",
       "\\end{description*}\n"
      ],
      "text/markdown": [
       "Beef\n",
       ":   91.0257333447394Cereal\n",
       ":   76.9257333447394Pork\n",
       ":   90.5257333447394\n",
       "\n"
      ],
      "text/plain": [
       "    Beef   Cereal     Pork \n",
       "91.02573 76.92573 90.52573 "
      ]
     },
     "metadata": {},
     "output_type": "display_data"
    }
   ],
   "source": [
    "ybar.k - t * SD * sqrt(1 / n.k)"
   ]
  },
  {
   "cell_type": "code",
   "execution_count": 11,
   "id": "270f1052-128e-4c18-97cc-ed2fb879f098",
   "metadata": {},
   "outputs": [
    {
     "data": {
      "text/html": [
       "<style>\n",
       ".dl-inline {width: auto; margin:0; padding: 0}\n",
       ".dl-inline>dt, .dl-inline>dd {float: none; width: auto; display: inline-block}\n",
       ".dl-inline>dt::after {content: \":\\0020\"; padding-right: .5ex}\n",
       ".dl-inline>dt:not(:first-of-type) {padding-left: .5ex}\n",
       "</style><dl class=dl-inline><dt>Beef</dt><dd>108.974266655261</dd><dt>Cereal</dt><dd>94.8742666552606</dd><dt>Pork</dt><dd>108.474266655261</dd></dl>\n"
      ],
      "text/latex": [
       "\\begin{description*}\n",
       "\\item[Beef] 108.974266655261\n",
       "\\item[Cereal] 94.8742666552606\n",
       "\\item[Pork] 108.474266655261\n",
       "\\end{description*}\n"
      ],
      "text/markdown": [
       "Beef\n",
       ":   108.974266655261Cereal\n",
       ":   94.8742666552606Pork\n",
       ":   108.474266655261\n",
       "\n"
      ],
      "text/plain": [
       "     Beef    Cereal      Pork \n",
       "108.97427  94.87427 108.47427 "
      ]
     },
     "metadata": {},
     "output_type": "display_data"
    }
   ],
   "source": [
    "ybar.k + t * SD * sqrt(1 / n.k)"
   ]
  },
  {
   "cell_type": "markdown",
   "id": "ffa09904-e6ee-45dd-a652-c129d8adda9c",
   "metadata": {},
   "source": [
    "### CI for difference between beef and cereal\n",
    "\n",
    "$$ (\\bar{y}_1 - \\bar{y}_2) \\pm t_{\\alpha /2, n - K} \\cdot \\mathit{SD} \\sqrt{\\frac{1}{n_1} + \\frac{1}{n_2}} $$"
   ]
  },
  {
   "cell_type": "markdown",
   "id": "3a24e4ce-8cc9-4693-9916-52663ce1d414",
   "metadata": {},
   "source": [
    "We use `unname()` to remove the labels from the vectors involved (e.g., `ybar.k`, `n.k`)."
   ]
  },
  {
   "cell_type": "code",
   "execution_count": 12,
   "id": "f307dd6c-110f-4ea4-b795-3012b05a2fbd",
   "metadata": {},
   "outputs": [
    {
     "data": {
      "text/html": [
       "1.40847038377784"
      ],
      "text/latex": [
       "1.40847038377784"
      ],
      "text/markdown": [
       "1.40847038377784"
      ],
      "text/plain": [
       "[1] 1.40847"
      ]
     },
     "metadata": {},
     "output_type": "display_data"
    }
   ],
   "source": [
    "unname(ybar.k['Beef'] - ybar.k['Cereal'] - t * SD * sqrt((1 / n.k['Beef']) + (1 / n.k['Cereal'])))"
   ]
  },
  {
   "cell_type": "code",
   "execution_count": 13,
   "id": "47640ee1-d8f9-464a-8a3a-b31e8f4ad2dd",
   "metadata": {},
   "outputs": [
    {
     "data": {
      "text/html": [
       "26.7915296162222"
      ],
      "text/latex": [
       "26.7915296162222"
      ],
      "text/markdown": [
       "26.7915296162222"
      ],
      "text/plain": [
       "[1] 26.79153"
      ]
     },
     "metadata": {},
     "output_type": "display_data"
    }
   ],
   "source": [
    "unname((ybar.k['Beef'] - ybar.k['Cereal']) + t * SD * sqrt((1 / n.k['Beef']) + (1 / n.k['Cereal'])))"
   ]
  },
  {
   "cell_type": "markdown",
   "id": "72e7250f-f55e-40ad-9cc0-84829c3f5c80",
   "metadata": {},
   "source": [
    "### Group effect sizes"
   ]
  },
  {
   "cell_type": "code",
   "execution_count": 14,
   "id": "180ceb79-8805-4c99-9fa4-6afd6082128e",
   "metadata": {},
   "outputs": [
    {
     "data": {
      "text/html": [
       "<style>\n",
       ".dl-inline {width: auto; margin:0; padding: 0}\n",
       ".dl-inline>dt, .dl-inline>dd {float: none; width: auto; display: inline-block}\n",
       ".dl-inline>dt::after {content: \":\\0020\"; padding-right: .5ex}\n",
       ".dl-inline>dt:not(:first-of-type) {padding-left: .5ex}\n",
       "</style><dl class=dl-inline><dt>Beef</dt><dd>0.351863417138168</dd><dt>Cereal</dt><dd>-0.667576483200498</dd><dt>Pork</dt><dd>0.315713066062329</dd></dl>\n"
      ],
      "text/latex": [
       "\\begin{description*}\n",
       "\\item[Beef] 0.351863417138168\n",
       "\\item[Cereal] -0.667576483200498\n",
       "\\item[Pork] 0.315713066062329\n",
       "\\end{description*}\n"
      ],
      "text/markdown": [
       "Beef\n",
       ":   0.351863417138168Cereal\n",
       ":   -0.667576483200498Pork\n",
       ":   0.315713066062329\n",
       "\n"
      ],
      "text/plain": [
       "      Beef     Cereal       Pork \n",
       " 0.3518634 -0.6675765  0.3157131 "
      ]
     },
     "metadata": {},
     "output_type": "display_data"
    }
   ],
   "source": [
    "d.k <- alpha.k / SD \n",
    "d.k"
   ]
  },
  {
   "cell_type": "markdown",
   "id": "d2c56b03-789b-47dd-86a0-69402ff3e6ac",
   "metadata": {},
   "source": [
    "### Difference effect size between beef and cereal"
   ]
  },
  {
   "cell_type": "code",
   "execution_count": 15,
   "id": "8770594c-8669-48d3-ac5c-7d37fb646614",
   "metadata": {},
   "outputs": [
    {
     "data": {
      "text/html": [
       "1.01943990033867"
      ],
      "text/latex": [
       "1.01943990033867"
      ],
      "text/markdown": [
       "1.01943990033867"
      ],
      "text/plain": [
       "[1] 1.01944"
      ]
     },
     "metadata": {},
     "output_type": "display_data"
    }
   ],
   "source": [
    "unname((ybar.k['Beef'] - ybar.k['Cereal']) / SD)"
   ]
  }
 ],
 "metadata": {
  "kernelspec": {
   "display_name": "R",
   "language": "R",
   "name": "ir"
  },
  "language_info": {
   "codemirror_mode": "r",
   "file_extension": ".r",
   "mimetype": "text/x-r-source",
   "name": "R",
   "pygments_lexer": "r",
   "version": "4.2.2"
  }
 },
 "nbformat": 4,
 "nbformat_minor": 5
}
